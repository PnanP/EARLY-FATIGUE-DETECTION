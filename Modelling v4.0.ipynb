{
 "cells": [
  {
   "cell_type": "code",
   "execution_count": 1,
   "id": "8092f8dd",
   "metadata": {},
   "outputs": [],
   "source": [
    "# Importing the necessary models\n",
    "\n",
    "import numpy as np\n",
    "import pandas as pd\n",
    "import matplotlib.pyplot as plt\n",
    "import seaborn as sns\n",
    "from collections import Counter\n",
    "from numpy import where\n",
    "\n",
    "from sklearn import preprocessing\n",
    "from sklearn.model_selection import train_test_split\n",
    "from sklearn.ensemble import RandomForestClassifier\n",
    "from sklearn.metrics import classification_report, confusion_matrix, accuracy_score,f1_score\n",
    "from sklearn.metrics import ConfusionMatrixDisplay\n",
    "from sklearn.model_selection import GridSearchCV\n",
    "from sklearn.ensemble import GradientBoostingClassifier\n",
    "from sklearn.neighbors import KNeighborsClassifier\n",
    "from sklearn import svm\n",
    "from sklearn.naive_bayes import ComplementNB\n",
    "from sklearn.preprocessing import LabelEncoder\n",
    "from sklearn.model_selection import cross_val_score\n",
    "from sklearn.model_selection import KFold\n",
    "\n",
    "from tensorflow.keras.models import Sequential\n",
    "from tensorflow.keras.layers import Dense\n",
    "from tensorflow.keras import utils\n",
    "from tensorflow.keras.wrappers.scikit_learn import KerasClassifier\n",
    "import os\n",
    "from tensorflow import keras\n",
    "\n",
    "from numpy.random import seed\n",
    "seed(42)\n",
    "import tensorflow as tf\n",
    "tf.random.set_seed(42)"
   ]
  },
  {
   "cell_type": "code",
   "execution_count": 3,
   "id": "24a595cc",
   "metadata": {},
   "outputs": [],
   "source": [
    "headers = ['remove',\"Frequency\", \"Amplitude\",'Duration','Velocity']\n",
    "df = pd.DataFrame()\n",
    "\n",
    "\n",
    "dir = r'C:\\Users\\pnanp\\Desktop\\Minor.AI4S.S6\\Personal Project\\Data\\Features 2'\n",
    "for file in os.listdir(dir):\n",
    "    path=os.path.join(dir, file)\n",
    "    medium = pd.read_csv(path ,sep=\" \", names = headers, index_col = False).drop(columns = ['remove'])\n",
    "    medium['State'] = file\n",
    "    df = df.append(medium, ignore_index = True)"
   ]
  },
  {
   "cell_type": "code",
   "execution_count": 4,
   "id": "76bed959",
   "metadata": {},
   "outputs": [
    {
     "data": {
      "text/html": [
       "<div>\n",
       "<style scoped>\n",
       "    .dataframe tbody tr th:only-of-type {\n",
       "        vertical-align: middle;\n",
       "    }\n",
       "\n",
       "    .dataframe tbody tr th {\n",
       "        vertical-align: top;\n",
       "    }\n",
       "\n",
       "    .dataframe thead th {\n",
       "        text-align: right;\n",
       "    }\n",
       "</style>\n",
       "<table border=\"1\" class=\"dataframe\">\n",
       "  <thead>\n",
       "    <tr style=\"text-align: right;\">\n",
       "      <th></th>\n",
       "      <th>Frequency</th>\n",
       "      <th>Amplitude</th>\n",
       "      <th>Duration</th>\n",
       "      <th>Velocity</th>\n",
       "      <th>State</th>\n",
       "      <th>Participant</th>\n",
       "    </tr>\n",
       "  </thead>\n",
       "  <tbody>\n",
       "    <tr>\n",
       "      <th>0</th>\n",
       "      <td>1.5385</td>\n",
       "      <td>0.0598</td>\n",
       "      <td>8.0</td>\n",
       "      <td>0.0157</td>\n",
       "      <td>0</td>\n",
       "      <td>1</td>\n",
       "    </tr>\n",
       "    <tr>\n",
       "      <th>1</th>\n",
       "      <td>1.6304</td>\n",
       "      <td>0.0561</td>\n",
       "      <td>13.0</td>\n",
       "      <td>0.0176</td>\n",
       "      <td>0</td>\n",
       "      <td>1</td>\n",
       "    </tr>\n",
       "    <tr>\n",
       "      <th>2</th>\n",
       "      <td>1.1765</td>\n",
       "      <td>0.0305</td>\n",
       "      <td>6.0</td>\n",
       "      <td>0.0109</td>\n",
       "      <td>0</td>\n",
       "      <td>1</td>\n",
       "    </tr>\n",
       "    <tr>\n",
       "      <th>3</th>\n",
       "      <td>1.1933</td>\n",
       "      <td>0.0332</td>\n",
       "      <td>4.0</td>\n",
       "      <td>0.0025</td>\n",
       "      <td>0</td>\n",
       "      <td>1</td>\n",
       "    </tr>\n",
       "    <tr>\n",
       "      <th>4</th>\n",
       "      <td>1.3393</td>\n",
       "      <td>0.0480</td>\n",
       "      <td>7.0</td>\n",
       "      <td>0.0205</td>\n",
       "      <td>0</td>\n",
       "      <td>1</td>\n",
       "    </tr>\n",
       "  </tbody>\n",
       "</table>\n",
       "</div>"
      ],
      "text/plain": [
       "   Frequency  Amplitude  Duration  Velocity  State  Participant\n",
       "0     1.5385     0.0598       8.0    0.0157      0            1\n",
       "1     1.6304     0.0561      13.0    0.0176      0            1\n",
       "2     1.1765     0.0305       6.0    0.0109      0            1\n",
       "3     1.1933     0.0332       4.0    0.0025      0            1\n",
       "4     1.3393     0.0480       7.0    0.0205      0            1"
      ]
     },
     "execution_count": 4,
     "metadata": {},
     "output_type": "execute_result"
    }
   ],
   "source": [
    "# Splitting the State column to get the state and participant\n",
    "\n",
    "Participant = []\n",
    "\n",
    "for i in df.index:\n",
    "    p = 0\n",
    "    p = df.iloc[i, 4].split('s')[1].split('.')[0]\n",
    "    df.iloc[i, 4] = df.iloc[i, 4].split('s')[0]\n",
    "    Participant.append(int(p))\n",
    "\n",
    "df['Participant'] = Participant\n",
    "df['State'] = pd.to_numeric(df.State)\n",
    "# df.reset_index(level=0, inplace=True)\n",
    "\n",
    "df.head()"
   ]
  },
  {
   "cell_type": "code",
   "execution_count": 5,
   "id": "123feb1a",
   "metadata": {},
   "outputs": [
    {
     "name": "stdout",
     "output_type": "stream",
     "text": [
      "<class 'pandas.core.frame.DataFrame'>\n",
      "RangeIndex: 4797 entries, 0 to 4796\n",
      "Data columns (total 6 columns):\n",
      " #   Column       Non-Null Count  Dtype  \n",
      "---  ------       --------------  -----  \n",
      " 0   Frequency    4797 non-null   float64\n",
      " 1   Amplitude    4797 non-null   float64\n",
      " 2   Duration     4797 non-null   float64\n",
      " 3   Velocity     4797 non-null   float64\n",
      " 4   State        4797 non-null   int64  \n",
      " 5   Participant  4797 non-null   int64  \n",
      "dtypes: float64(4), int64(2)\n",
      "memory usage: 225.0 KB\n"
     ]
    }
   ],
   "source": [
    "# Viewing the dataframe's information\n",
    "df.info()"
   ]
  },
  {
   "cell_type": "code",
   "execution_count": 28,
   "id": "a9c59b43",
   "metadata": {},
   "outputs": [
    {
     "data": {
      "text/plain": [
       "Text(0.5, 1.0, 'Velocity')"
      ]
     },
     "execution_count": 28,
     "metadata": {},
     "output_type": "execute_result"
    },
    {
     "data": {
      "image/png": "[encoded data removed]",
      "text/plain": [
       "<Figure size 1800x576 with 4 Axes>"
      ]
     },
     "metadata": {
      "needs_background": "light"
     },
     "output_type": "display_data"
    }
   ],
   "source": [
    "# Plotting the distribution of blink features by states\n",
    "\n",
    "fig,ax = plt.subplots(1,4,figsize = (25,8))\n",
    "fig.suptitle('Distribution of blink features according states', size = 16)\n",
    "\n",
    "sns.boxplot(x = 'State', y=\"Duration\",data=df, ax = ax[0])\n",
    "ax[0].set_title('Duration')\n",
    "\n",
    "sns.boxplot(x = 'State', y=\"Amplitude\",data=df, ax = ax[1])\n",
    "ax[1].set_title('Amplitude')\n",
    "\n",
    "sns.boxplot(x = 'State', y=\"Frequency\",data=df, ax = ax[2])\n",
    "ax[2].set_title('Frequency')\n",
    "\n",
    "sns.boxplot(x = 'State', y=\"Velocity\",data=df, ax = ax[3])\n",
    "ax[3].set_title('Velocity')"
   ]
  },
  {
   "cell_type": "code",
   "execution_count": 29,
   "id": "c6dc22f5",
   "metadata": {},
   "outputs": [
    {
     "name": "stdout",
     "output_type": "stream",
     "text": [
      "Class=0, n=1254 (26.141%)\n",
      "Class=10, n=1777 (37.044%)\n",
      "Class=5, n=1766 (36.815%)\n"
     ]
    }
   ],
   "source": [
    "# Splitting data into features and target\n",
    "y = df.State\n",
    "X = df[['Amplitude','Frequency','Duration', 'Velocity']]\n",
    "\n",
    "# summarize class distribution\n",
    "counter = Counter(y)\n",
    "for k,v in counter.items():\n",
    "    per = v / len(y) * 100\n",
    "    print('Class=%d, n=%d (%.3f%%)' % (k, v, per))"
   ]
  },
  {
   "cell_type": "code",
   "execution_count": 30,
   "id": "7f18c0e8-b48e-499f-8f23-df15258cc0c0",
   "metadata": {},
   "outputs": [],
   "source": [
    "# Normalize and split data into train and test sets\n",
    "X = preprocessing.normalize(X)\n",
    "X_train, X_test, y_train, y_test = train_test_split(X, y, test_size = 0.33,random_state = 42)"
   ]
  },
  {
   "cell_type": "markdown",
   "id": "dc2de883",
   "metadata": {},
   "source": [
    "#### Naive Bayes"
   ]
  },
  {
   "cell_type": "code",
   "execution_count": 31,
   "id": "aa45f2a2",
   "metadata": {},
   "outputs": [
    {
     "name": "stdout",
     "output_type": "stream",
     "text": [
      "Classification report\n",
      "-------------------------------\n",
      "              precision    recall  f1-score   support\n",
      "\n",
      "           0       0.35      0.18      0.24       439\n",
      "           5       0.34      0.51      0.40       576\n",
      "          10       0.37      0.32      0.34       569\n",
      "\n",
      "    accuracy                           0.35      1584\n",
      "   macro avg       0.35      0.34      0.33      1584\n",
      "weighted avg       0.35      0.35      0.34      1584\n",
      "\n",
      "_______________________________\n",
      "Accuracy: 34.91%\n"
     ]
    }
   ],
   "source": [
    "# Training\n",
    "blinkNB = ComplementNB()\n",
    "blinkNB.fit(X_train, y_train)\n",
    "y_pred = blinkNB.predict(X_test)\n",
    "NBA = round(accuracy_score(y_test, y_pred)*100,2)\n",
    "\n",
    "# Printing evaluation statistics\n",
    "print('Classification report')\n",
    "print('-------------------------------')\n",
    "print(classification_report(y_test, y_pred))\n",
    "print('_______________________________')\n",
    "print('Accuracy: {}%'.format(NBA))"
   ]
  },
  {
   "cell_type": "code",
   "execution_count": 32,
   "id": "f8b7eb39",
   "metadata": {},
   "outputs": [
    {
     "data": {
      "image/png": "[encoded data removed]",
      "text/plain": [
       "<Figure size 360x360 with 1 Axes>"
      ]
     },
     "metadata": {
      "needs_background": "light"
     },
     "output_type": "display_data"
    }
   ],
   "source": [
    "#Generate the confusion matrix\n",
    "cf_matrix = confusion_matrix(y_test, y_pred)\n",
    "plt.rcParams['figure.figsize'] = (5,5)\n",
    "ax = sns.heatmap(cf_matrix, annot=True, cmap='Blues', cbar= False, square = True, \n",
    "                      fmt = 'g', annot_kws = {'size': 13})\n",
    "\n",
    "ax.set_title('Confusion Matrix - Naive Bayes')\n",
    "ax.set_xlabel('Predicted State', size = 13)\n",
    "ax.set_ylabel('Actual State', size = 13)\n",
    "\n",
    "## Ticket labels - List must be in alphabetical order\n",
    "ax.xaxis.set_ticklabels(['0','5', '10'])\n",
    "ax.yaxis.set_ticklabels(['0','5', '10'])\n",
    "\n",
    "## Display the visualization of the Confusion Matrix.\n",
    "plt.show()"
   ]
  },
  {
   "cell_type": "markdown",
   "id": "49f1cefa-3114-4b1a-b380-a65b6c69dd06",
   "metadata": {},
   "source": [
    "#### KNN"
   ]
  },
  {
   "cell_type": "code",
   "execution_count": 33,
   "id": "d950f780-96ac-493b-bb6e-7b2dca03c746",
   "metadata": {},
   "outputs": [
    {
     "name": "stdout",
     "output_type": "stream",
     "text": [
      "Classification report\n",
      "-------------------------------\n",
      "              precision    recall  f1-score   support\n",
      "\n",
      "           0       0.44      0.50      0.47       439\n",
      "           5       0.45      0.47      0.46       576\n",
      "          10       0.51      0.43      0.46       569\n",
      "\n",
      "    accuracy                           0.46      1584\n",
      "   macro avg       0.47      0.47      0.46      1584\n",
      "weighted avg       0.47      0.46      0.46      1584\n",
      "\n",
      "_______________________________\n",
      "Accuracy: 46.34%\n"
     ]
    }
   ],
   "source": [
    "# Training\n",
    "blinkKNN = KNeighborsClassifier()\n",
    "blinkKNN.fit(X_train, y_train)\n",
    "y_pred = blinkKNN.predict(X_test)\n",
    "KNNA = round(accuracy_score(y_test, y_pred)*100,2)\n",
    "\n",
    "# Printing evaluation statistics\n",
    "print('Classification report')\n",
    "print('-------------------------------')\n",
    "print(classification_report(y_test, y_pred))\n",
    "print('_______________________________')\n",
    "print('Accuracy: {}%'.format(KNNA))"
   ]
  },
  {
   "cell_type": "code",
   "execution_count": 34,
   "id": "23314fbc-0eb7-4ab5-b6b7-7e1b996e48d1",
   "metadata": {},
   "outputs": [
    {
     "data": {
      "image/png": "[encoded data removed]",
      "text/plain": [
       "<Figure size 360x360 with 1 Axes>"
      ]
     },
     "metadata": {
      "needs_background": "light"
     },
     "output_type": "display_data"
    }
   ],
   "source": [
    "#Generate the confusion matrix\n",
    "cf_matrix = confusion_matrix(y_test, y_pred)\n",
    "plt.rcParams['figure.figsize'] = (5,5)\n",
    "ax = sns.heatmap(cf_matrix, annot=True, cmap='Blues', cbar= False, square = True, \n",
    "                      fmt = 'g', annot_kws = {'size': 13})\n",
    "\n",
    "ax.set_title('Confusion Matrix - KNN')\n",
    "ax.set_xlabel('Predicted State', size = 13)\n",
    "ax.set_ylabel('Actual State', size = 13)\n",
    "\n",
    "## Ticket labels - List must be in alphabetical order\n",
    "ax.xaxis.set_ticklabels(['0','5', '10'])\n",
    "ax.yaxis.set_ticklabels(['0','5', '10'])\n",
    "\n",
    "## Display the visualization of the Confusion Matrix.\n",
    "plt.show()"
   ]
  },
  {
   "cell_type": "code",
   "execution_count": 35,
   "id": "0a588e91",
   "metadata": {},
   "outputs": [
    {
     "name": "stdout",
     "output_type": "stream",
     "text": [
      "Best: 0.507918 using {'n_neighbors': 15, 'p': 1, 'weights': 'distance'}\n",
      "0.481781 with: {'n_neighbors': 5, 'p': 1, 'weights': 'uniform'}\n",
      "0.489554 with: {'n_neighbors': 5, 'p': 1, 'weights': 'distance'}\n",
      "0.473382 with: {'n_neighbors': 5, 'p': 2, 'weights': 'uniform'}\n",
      "0.483025 with: {'n_neighbors': 5, 'p': 2, 'weights': 'distance'}\n",
      "0.484898 with: {'n_neighbors': 10, 'p': 1, 'weights': 'uniform'}\n",
      "0.501695 with: {'n_neighbors': 10, 'p': 1, 'weights': 'distance'}\n",
      "0.491124 with: {'n_neighbors': 10, 'p': 2, 'weights': 'uniform'}\n",
      "0.495472 with: {'n_neighbors': 10, 'p': 2, 'weights': 'distance'}\n",
      "0.499208 with: {'n_neighbors': 15, 'p': 1, 'weights': 'uniform'}\n",
      "0.507918 with: {'n_neighbors': 15, 'p': 1, 'weights': 'distance'}\n",
      "0.495168 with: {'n_neighbors': 15, 'p': 2, 'weights': 'uniform'}\n",
      "0.506675 with: {'n_neighbors': 15, 'p': 2, 'weights': 'distance'}\n"
     ]
    }
   ],
   "source": [
    "param = [\n",
    "    {'n_neighbors':  [5,10,15],\n",
    "     'weights': ['uniform', 'distance'],\n",
    "     'p':[1,2]}\n",
    "]\n",
    "\n",
    "gridKNN = GridSearchCV(KNeighborsClassifier(), param_grid = param, scoring = 'accuracy')\n",
    "gridKNN_result = gridKNN.fit(X_train,y_train)\n",
    "\n",
    "print(\"Best: %f using %s\" % (gridKNN_result.best_score_, gridKNN_result.best_params_))\n",
    "means = gridKNN_result.cv_results_['mean_test_score']\n",
    "params = gridKNN_result.cv_results_['params']\n",
    "for mean, param in zip(means, params):\n",
    "    print(\"%f with: %r\" % (mean, param))"
   ]
  },
  {
   "cell_type": "code",
   "execution_count": 36,
   "id": "5c152389",
   "metadata": {},
   "outputs": [
    {
     "name": "stdout",
     "output_type": "stream",
     "text": [
      "Classification report\n",
      "-------------------------------\n",
      "              precision    recall  f1-score   support\n",
      "\n",
      "           0       0.49      0.40      0.44       439\n",
      "           5       0.46      0.49      0.47       576\n",
      "          10       0.51      0.55      0.53       569\n",
      "\n",
      "    accuracy                           0.49      1584\n",
      "   macro avg       0.49      0.48      0.48      1584\n",
      "weighted avg       0.49      0.49      0.48      1584\n",
      "\n",
      "_______________________________\n",
      "Accuracy: 46.34%\n"
     ]
    }
   ],
   "source": [
    "# Training\n",
    "blinkKNN = gridKNN.best_estimator_\n",
    "blinkKNN.fit(X_train, y_train)\n",
    "y_pred = blinkKNN.predict(X_test)\n",
    "\n",
    "# Printing evaluation statistics\n",
    "print('Classification report')\n",
    "print('-------------------------------')\n",
    "print(classification_report(y_test, y_pred))\n",
    "print('_______________________________')\n",
    "print('Accuracy: {}%'.format(KNNA))"
   ]
  },
  {
   "cell_type": "code",
   "execution_count": 37,
   "id": "0c1902dc",
   "metadata": {},
   "outputs": [
    {
     "data": {
      "image/png": "[encoded data removed]",
      "text/plain": [
       "<Figure size 360x360 with 1 Axes>"
      ]
     },
     "metadata": {
      "needs_background": "light"
     },
     "output_type": "display_data"
    }
   ],
   "source": [
    "#Generate the confusion matrix\n",
    "cf_matrix = confusion_matrix(y_test, y_pred)\n",
    "plt.rcParams['figure.figsize'] = (5,5)\n",
    "ax = sns.heatmap(cf_matrix, annot=True, cmap='Blues', cbar= False, square = True, \n",
    "                      fmt = 'g', annot_kws = {'size': 13})\n",
    "\n",
    "ax.set_title('Confusion Matrix - KNN')\n",
    "ax.set_xlabel('Predicted State', size = 13)\n",
    "ax.set_ylabel('Actual State', size = 13)\n",
    "\n",
    "## Ticket labels - List must be in alphabetical order\n",
    "ax.xaxis.set_ticklabels(['0','5', '10'])\n",
    "ax.yaxis.set_ticklabels(['0','5', '10'])\n",
    "\n",
    "## Display the visualization of the Confusion Matrix.\n",
    "plt.show()"
   ]
  },
  {
   "cell_type": "markdown",
   "id": "183255eb-07f1-402d-8db7-3c8dd0208e6b",
   "metadata": {},
   "source": [
    "#### Random Forest Classifier"
   ]
  },
  {
   "cell_type": "code",
   "execution_count": 38,
   "id": "fae563ef-7d35-4915-b299-7f5420ab56a6",
   "metadata": {},
   "outputs": [
    {
     "name": "stdout",
     "output_type": "stream",
     "text": [
      "Classification report\n",
      "-------------------------------\n",
      "              precision    recall  f1-score   support\n",
      "\n",
      "           0       0.52      0.46      0.49       439\n",
      "           5       0.47      0.48      0.47       576\n",
      "          10       0.52      0.56      0.54       569\n",
      "\n",
      "    accuracy                           0.50      1584\n",
      "   macro avg       0.50      0.50      0.50      1584\n",
      "weighted avg       0.50      0.50      0.50      1584\n",
      "\n",
      "_______________________________\n",
      "Accuracy: 50.13%\n"
     ]
    }
   ],
   "source": [
    "# Training\n",
    "blinkRF = RandomForestClassifier(random_state = 42)\n",
    "blinkRF.fit(X_train, y_train)\n",
    "y_pred = blinkRF.predict(X_test)\n",
    "RFA = round(accuracy_score(y_test, y_pred)*100,2)\n",
    "\n",
    "# Printing evaluation statistics\n",
    "print('Classification report')\n",
    "print('-------------------------------')\n",
    "print(classification_report(y_test, y_pred))\n",
    "print('_______________________________')\n",
    "print('Accuracy: {}%'.format(round(accuracy_score(y_test, y_pred)*100,2)))"
   ]
  },
  {
   "cell_type": "code",
   "execution_count": 39,
   "id": "efa6eaf3-f815-4812-9d7f-f226481ad7ed",
   "metadata": {},
   "outputs": [
    {
     "data": {
      "image/png": "[encoded data removed]",
      "text/plain": [
       "<Figure size 360x360 with 1 Axes>"
      ]
     },
     "metadata": {
      "needs_background": "light"
     },
     "output_type": "display_data"
    }
   ],
   "source": [
    "#Generate the confusion matrix\n",
    "cf_matrix = confusion_matrix(y_test, y_pred)\n",
    "plt.rcParams['figure.figsize'] = (5,5)\n",
    "ax = sns.heatmap(cf_matrix, annot=True, cmap='Blues', cbar= False, square = True, \n",
    "                      fmt = 'g', annot_kws = {'size': 13})\n",
    "\n",
    "ax.set_title('Confusion Matrix - RF')\n",
    "ax.set_xlabel('Predicted State', size = 13)\n",
    "ax.set_ylabel('Actual State', size = 13)\n",
    "\n",
    "## Ticket labels - List must be in alphabetical order\n",
    "ax.xaxis.set_ticklabels(['0','5', '10'])\n",
    "ax.yaxis.set_ticklabels(['0','5', '10'])\n",
    "\n",
    "## Display the visualization of the Confusion Matrix.\n",
    "plt.show()"
   ]
  },
  {
   "cell_type": "code",
   "execution_count": 40,
   "id": "909d4759",
   "metadata": {},
   "outputs": [
    {
     "name": "stdout",
     "output_type": "stream",
     "text": [
      "Best: 0.523802 using {'bootstrap': True, 'criterion': 'gini', 'max_depth': None, 'max_features': 1, 'n_estimators': 250, 'warm_start': True}\n",
      "0.511661 with: {'bootstrap': True, 'criterion': 'gini', 'max_depth': None, 'max_features': 1, 'n_estimators': 50, 'warm_start': True}\n",
      "0.511661 with: {'bootstrap': True, 'criterion': 'gini', 'max_depth': None, 'max_features': 1, 'n_estimators': 50, 'warm_start': False}\n",
      "0.521308 with: {'bootstrap': True, 'criterion': 'gini', 'max_depth': None, 'max_features': 1, 'n_estimators': 150, 'warm_start': True}\n",
      "0.521308 with: {'bootstrap': True, 'criterion': 'gini', 'max_depth': None, 'max_features': 1, 'n_estimators': 150, 'warm_start': False}\n",
      "0.523802 with: {'bootstrap': True, 'criterion': 'gini', 'max_depth': None, 'max_features': 1, 'n_estimators': 250, 'warm_start': True}\n",
      "0.523802 with: {'bootstrap': True, 'criterion': 'gini', 'max_depth': None, 'max_features': 1, 'n_estimators': 250, 'warm_start': False}\n",
      "0.510725 with: {'bootstrap': True, 'criterion': 'gini', 'max_depth': None, 'max_features': 2, 'n_estimators': 50, 'warm_start': True}\n",
      "0.510725 with: {'bootstrap': True, 'criterion': 'gini', 'max_depth': None, 'max_features': 2, 'n_estimators': 50, 'warm_start': False}\n",
      "0.508239 with: {'bootstrap': True, 'criterion': 'gini', 'max_depth': None, 'max_features': 2, 'n_estimators': 150, 'warm_start': True}\n",
      "0.508239 with: {'bootstrap': True, 'criterion': 'gini', 'max_depth': None, 'max_features': 2, 'n_estimators': 150, 'warm_start': False}\n",
      "0.509485 with: {'bootstrap': True, 'criterion': 'gini', 'max_depth': None, 'max_features': 2, 'n_estimators': 250, 'warm_start': True}\n",
      "0.509485 with: {'bootstrap': True, 'criterion': 'gini', 'max_depth': None, 'max_features': 2, 'n_estimators': 250, 'warm_start': False}\n",
      "0.500151 with: {'bootstrap': True, 'criterion': 'gini', 'max_depth': None, 'max_features': 3, 'n_estimators': 50, 'warm_start': True}\n",
      "0.500151 with: {'bootstrap': True, 'criterion': 'gini', 'max_depth': None, 'max_features': 3, 'n_estimators': 50, 'warm_start': False}\n",
      "0.509797 with: {'bootstrap': True, 'criterion': 'gini', 'max_depth': None, 'max_features': 3, 'n_estimators': 150, 'warm_start': True}\n",
      "0.509797 with: {'bootstrap': True, 'criterion': 'gini', 'max_depth': None, 'max_features': 3, 'n_estimators': 150, 'warm_start': False}\n",
      "0.507615 with: {'bootstrap': True, 'criterion': 'gini', 'max_depth': None, 'max_features': 3, 'n_estimators': 250, 'warm_start': True}\n",
      "0.507615 with: {'bootstrap': True, 'criterion': 'gini', 'max_depth': None, 'max_features': 3, 'n_estimators': 250, 'warm_start': False}\n",
      "0.463417 with: {'bootstrap': True, 'criterion': 'gini', 'max_depth': 1, 'max_features': 1, 'n_estimators': 50, 'warm_start': True}\n",
      "0.463417 with: {'bootstrap': True, 'criterion': 'gini', 'max_depth': 1, 'max_features': 1, 'n_estimators': 50, 'warm_start': False}\n",
      "0.476492 with: {'bootstrap': True, 'criterion': 'gini', 'max_depth': 1, 'max_features': 1, 'n_estimators': 150, 'warm_start': True}\n",
      "0.476492 with: {'bootstrap': True, 'criterion': 'gini', 'max_depth': 1, 'max_features': 1, 'n_estimators': 150, 'warm_start': False}\n",
      "0.475871 with: {'bootstrap': True, 'criterion': 'gini', 'max_depth': 1, 'max_features': 1, 'n_estimators': 250, 'warm_start': True}\n",
      "0.475871 with: {'bootstrap': True, 'criterion': 'gini', 'max_depth': 1, 'max_features': 1, 'n_estimators': 250, 'warm_start': False}\n",
      "0.451284 with: {'bootstrap': True, 'criterion': 'gini', 'max_depth': 1, 'max_features': 2, 'n_estimators': 50, 'warm_start': True}\n",
      "0.451284 with: {'bootstrap': True, 'criterion': 'gini', 'max_depth': 1, 'max_features': 2, 'n_estimators': 50, 'warm_start': False}\n",
      "0.454084 with: {'bootstrap': True, 'criterion': 'gini', 'max_depth': 1, 'max_features': 2, 'n_estimators': 150, 'warm_start': True}\n",
      "0.454084 with: {'bootstrap': True, 'criterion': 'gini', 'max_depth': 1, 'max_features': 2, 'n_estimators': 150, 'warm_start': False}\n",
      "0.452529 with: {'bootstrap': True, 'criterion': 'gini', 'max_depth': 1, 'max_features': 2, 'n_estimators': 250, 'warm_start': True}\n",
      "0.452529 with: {'bootstrap': True, 'criterion': 'gini', 'max_depth': 1, 'max_features': 2, 'n_estimators': 250, 'warm_start': False}\n",
      "0.451906 with: {'bootstrap': True, 'criterion': 'gini', 'max_depth': 1, 'max_features': 3, 'n_estimators': 50, 'warm_start': True}\n",
      "0.451906 with: {'bootstrap': True, 'criterion': 'gini', 'max_depth': 1, 'max_features': 3, 'n_estimators': 50, 'warm_start': False}\n",
      "0.453773 with: {'bootstrap': True, 'criterion': 'gini', 'max_depth': 1, 'max_features': 3, 'n_estimators': 150, 'warm_start': True}\n",
      "0.453773 with: {'bootstrap': True, 'criterion': 'gini', 'max_depth': 1, 'max_features': 3, 'n_estimators': 150, 'warm_start': False}\n",
      "0.454085 with: {'bootstrap': True, 'criterion': 'gini', 'max_depth': 1, 'max_features': 3, 'n_estimators': 250, 'warm_start': True}\n",
      "0.454085 with: {'bootstrap': True, 'criterion': 'gini', 'max_depth': 1, 'max_features': 3, 'n_estimators': 250, 'warm_start': False}\n",
      "0.480228 with: {'bootstrap': True, 'criterion': 'gini', 'max_depth': 2, 'max_features': 1, 'n_estimators': 50, 'warm_start': True}\n",
      "0.480228 with: {'bootstrap': True, 'criterion': 'gini', 'max_depth': 2, 'max_features': 1, 'n_estimators': 50, 'warm_start': False}\n",
      "0.479917 with: {'bootstrap': True, 'criterion': 'gini', 'max_depth': 2, 'max_features': 1, 'n_estimators': 150, 'warm_start': True}\n",
      "0.479917 with: {'bootstrap': True, 'criterion': 'gini', 'max_depth': 2, 'max_features': 1, 'n_estimators': 150, 'warm_start': False}\n",
      "0.480228 with: {'bootstrap': True, 'criterion': 'gini', 'max_depth': 2, 'max_features': 1, 'n_estimators': 250, 'warm_start': True}\n",
      "0.480228 with: {'bootstrap': True, 'criterion': 'gini', 'max_depth': 2, 'max_features': 1, 'n_estimators': 250, 'warm_start': False}\n",
      "0.482094 with: {'bootstrap': True, 'criterion': 'gini', 'max_depth': 2, 'max_features': 2, 'n_estimators': 50, 'warm_start': True}\n",
      "0.482094 with: {'bootstrap': True, 'criterion': 'gini', 'max_depth': 2, 'max_features': 2, 'n_estimators': 50, 'warm_start': False}\n",
      "0.482095 with: {'bootstrap': True, 'criterion': 'gini', 'max_depth': 2, 'max_features': 2, 'n_estimators': 150, 'warm_start': True}\n",
      "0.482095 with: {'bootstrap': True, 'criterion': 'gini', 'max_depth': 2, 'max_features': 2, 'n_estimators': 150, 'warm_start': False}\n",
      "0.481784 with: {'bootstrap': True, 'criterion': 'gini', 'max_depth': 2, 'max_features': 2, 'n_estimators': 250, 'warm_start': True}\n",
      "0.481784 with: {'bootstrap': True, 'criterion': 'gini', 'max_depth': 2, 'max_features': 2, 'n_estimators': 250, 'warm_start': False}\n",
      "0.478362 with: {'bootstrap': True, 'criterion': 'gini', 'max_depth': 2, 'max_features': 3, 'n_estimators': 50, 'warm_start': True}\n",
      "0.478362 with: {'bootstrap': True, 'criterion': 'gini', 'max_depth': 2, 'max_features': 3, 'n_estimators': 50, 'warm_start': False}\n",
      "0.480540 with: {'bootstrap': True, 'criterion': 'gini', 'max_depth': 2, 'max_features': 3, 'n_estimators': 150, 'warm_start': True}\n",
      "0.480540 with: {'bootstrap': True, 'criterion': 'gini', 'max_depth': 2, 'max_features': 3, 'n_estimators': 150, 'warm_start': False}\n",
      "0.480229 with: {'bootstrap': True, 'criterion': 'gini', 'max_depth': 2, 'max_features': 3, 'n_estimators': 250, 'warm_start': True}\n",
      "0.480229 with: {'bootstrap': True, 'criterion': 'gini', 'max_depth': 2, 'max_features': 3, 'n_estimators': 250, 'warm_start': False}\n",
      "0.486139 with: {'bootstrap': True, 'criterion': 'gini', 'max_depth': 3, 'max_features': 1, 'n_estimators': 50, 'warm_start': True}\n",
      "0.486139 with: {'bootstrap': True, 'criterion': 'gini', 'max_depth': 3, 'max_features': 1, 'n_estimators': 50, 'warm_start': False}\n",
      "0.488630 with: {'bootstrap': True, 'criterion': 'gini', 'max_depth': 3, 'max_features': 1, 'n_estimators': 150, 'warm_start': True}\n",
      "0.488630 with: {'bootstrap': True, 'criterion': 'gini', 'max_depth': 3, 'max_features': 1, 'n_estimators': 150, 'warm_start': False}\n",
      "0.486451 with: {'bootstrap': True, 'criterion': 'gini', 'max_depth': 3, 'max_features': 1, 'n_estimators': 250, 'warm_start': True}\n",
      "0.486451 with: {'bootstrap': True, 'criterion': 'gini', 'max_depth': 3, 'max_features': 1, 'n_estimators': 250, 'warm_start': False}\n",
      "0.491118 with: {'bootstrap': True, 'criterion': 'gini', 'max_depth': 3, 'max_features': 2, 'n_estimators': 50, 'warm_start': True}\n",
      "0.491118 with: {'bootstrap': True, 'criterion': 'gini', 'max_depth': 3, 'max_features': 2, 'n_estimators': 50, 'warm_start': False}\n",
      "0.488318 with: {'bootstrap': True, 'criterion': 'gini', 'max_depth': 3, 'max_features': 2, 'n_estimators': 150, 'warm_start': True}\n",
      "0.488318 with: {'bootstrap': True, 'criterion': 'gini', 'max_depth': 3, 'max_features': 2, 'n_estimators': 150, 'warm_start': False}\n",
      "0.488629 with: {'bootstrap': True, 'criterion': 'gini', 'max_depth': 3, 'max_features': 2, 'n_estimators': 250, 'warm_start': True}\n",
      "0.488629 with: {'bootstrap': True, 'criterion': 'gini', 'max_depth': 3, 'max_features': 2, 'n_estimators': 250, 'warm_start': False}\n",
      "0.488317 with: {'bootstrap': True, 'criterion': 'gini', 'max_depth': 3, 'max_features': 3, 'n_estimators': 50, 'warm_start': True}\n",
      "0.488317 with: {'bootstrap': True, 'criterion': 'gini', 'max_depth': 3, 'max_features': 3, 'n_estimators': 50, 'warm_start': False}\n",
      "0.491118 with: {'bootstrap': True, 'criterion': 'gini', 'max_depth': 3, 'max_features': 3, 'n_estimators': 150, 'warm_start': True}\n",
      "0.491118 with: {'bootstrap': True, 'criterion': 'gini', 'max_depth': 3, 'max_features': 3, 'n_estimators': 150, 'warm_start': False}\n",
      "0.488318 with: {'bootstrap': True, 'criterion': 'gini', 'max_depth': 3, 'max_features': 3, 'n_estimators': 250, 'warm_start': True}\n",
      "0.488318 with: {'bootstrap': True, 'criterion': 'gini', 'max_depth': 3, 'max_features': 3, 'n_estimators': 250, 'warm_start': False}\n",
      "0.514157 with: {'bootstrap': True, 'criterion': 'entropy', 'max_depth': None, 'max_features': 1, 'n_estimators': 50, 'warm_start': True}\n",
      "0.514157 with: {'bootstrap': True, 'criterion': 'entropy', 'max_depth': None, 'max_features': 1, 'n_estimators': 50, 'warm_start': False}\n",
      "0.522869 with: {'bootstrap': True, 'criterion': 'entropy', 'max_depth': None, 'max_features': 1, 'n_estimators': 150, 'warm_start': True}\n",
      "0.522869 with: {'bootstrap': True, 'criterion': 'entropy', 'max_depth': None, 'max_features': 1, 'n_estimators': 150, 'warm_start': False}\n",
      "0.523181 with: {'bootstrap': True, 'criterion': 'entropy', 'max_depth': None, 'max_features': 1, 'n_estimators': 250, 'warm_start': True}\n",
      "0.523181 with: {'bootstrap': True, 'criterion': 'entropy', 'max_depth': None, 'max_features': 1, 'n_estimators': 250, 'warm_start': False}\n",
      "0.509483 with: {'bootstrap': True, 'criterion': 'entropy', 'max_depth': None, 'max_features': 2, 'n_estimators': 50, 'warm_start': True}\n",
      "0.509483 with: {'bootstrap': True, 'criterion': 'entropy', 'max_depth': None, 'max_features': 2, 'n_estimators': 50, 'warm_start': False}\n",
      "0.509481 with: {'bootstrap': True, 'criterion': 'entropy', 'max_depth': None, 'max_features': 2, 'n_estimators': 150, 'warm_start': True}\n",
      "0.509481 with: {'bootstrap': True, 'criterion': 'entropy', 'max_depth': None, 'max_features': 2, 'n_estimators': 150, 'warm_start': False}\n",
      "0.511662 with: {'bootstrap': True, 'criterion': 'entropy', 'max_depth': None, 'max_features': 2, 'n_estimators': 250, 'warm_start': True}\n",
      "0.511662 with: {'bootstrap': True, 'criterion': 'entropy', 'max_depth': None, 'max_features': 2, 'n_estimators': 250, 'warm_start': False}\n",
      "0.509795 with: {'bootstrap': True, 'criterion': 'entropy', 'max_depth': None, 'max_features': 3, 'n_estimators': 50, 'warm_start': True}\n",
      "0.509795 with: {'bootstrap': True, 'criterion': 'entropy', 'max_depth': None, 'max_features': 3, 'n_estimators': 50, 'warm_start': False}\n",
      "0.503259 with: {'bootstrap': True, 'criterion': 'entropy', 'max_depth': None, 'max_features': 3, 'n_estimators': 150, 'warm_start': True}\n",
      "0.503259 with: {'bootstrap': True, 'criterion': 'entropy', 'max_depth': None, 'max_features': 3, 'n_estimators': 150, 'warm_start': False}\n",
      "0.503570 with: {'bootstrap': True, 'criterion': 'entropy', 'max_depth': None, 'max_features': 3, 'n_estimators': 250, 'warm_start': True}\n",
      "0.503570 with: {'bootstrap': True, 'criterion': 'entropy', 'max_depth': None, 'max_features': 3, 'n_estimators': 250, 'warm_start': False}\n",
      "0.464665 with: {'bootstrap': True, 'criterion': 'entropy', 'max_depth': 1, 'max_features': 1, 'n_estimators': 50, 'warm_start': True}\n",
      "0.464665 with: {'bootstrap': True, 'criterion': 'entropy', 'max_depth': 1, 'max_features': 1, 'n_estimators': 50, 'warm_start': False}\n",
      "0.471200 with: {'bootstrap': True, 'criterion': 'entropy', 'max_depth': 1, 'max_features': 1, 'n_estimators': 150, 'warm_start': True}\n",
      "0.471200 with: {'bootstrap': True, 'criterion': 'entropy', 'max_depth': 1, 'max_features': 1, 'n_estimators': 150, 'warm_start': False}\n",
      "0.469021 with: {'bootstrap': True, 'criterion': 'entropy', 'max_depth': 1, 'max_features': 1, 'n_estimators': 250, 'warm_start': True}\n",
      "0.469021 with: {'bootstrap': True, 'criterion': 'entropy', 'max_depth': 1, 'max_features': 1, 'n_estimators': 250, 'warm_start': False}\n",
      "0.451904 with: {'bootstrap': True, 'criterion': 'entropy', 'max_depth': 1, 'max_features': 2, 'n_estimators': 50, 'warm_start': True}\n",
      "0.451904 with: {'bootstrap': True, 'criterion': 'entropy', 'max_depth': 1, 'max_features': 2, 'n_estimators': 50, 'warm_start': False}\n",
      "0.452528 with: {'bootstrap': True, 'criterion': 'entropy', 'max_depth': 1, 'max_features': 2, 'n_estimators': 150, 'warm_start': True}\n",
      "0.452528 with: {'bootstrap': True, 'criterion': 'entropy', 'max_depth': 1, 'max_features': 2, 'n_estimators': 150, 'warm_start': False}\n",
      "0.451905 with: {'bootstrap': True, 'criterion': 'entropy', 'max_depth': 1, 'max_features': 2, 'n_estimators': 250, 'warm_start': True}\n",
      "0.451905 with: {'bootstrap': True, 'criterion': 'entropy', 'max_depth': 1, 'max_features': 2, 'n_estimators': 250, 'warm_start': False}\n",
      "0.454394 with: {'bootstrap': True, 'criterion': 'entropy', 'max_depth': 1, 'max_features': 3, 'n_estimators': 50, 'warm_start': True}\n",
      "0.454394 with: {'bootstrap': True, 'criterion': 'entropy', 'max_depth': 1, 'max_features': 3, 'n_estimators': 50, 'warm_start': False}\n",
      "0.453150 with: {'bootstrap': True, 'criterion': 'entropy', 'max_depth': 1, 'max_features': 3, 'n_estimators': 150, 'warm_start': True}\n",
      "0.453150 with: {'bootstrap': True, 'criterion': 'entropy', 'max_depth': 1, 'max_features': 3, 'n_estimators': 150, 'warm_start': False}\n",
      "0.454084 with: {'bootstrap': True, 'criterion': 'entropy', 'max_depth': 1, 'max_features': 3, 'n_estimators': 250, 'warm_start': True}\n",
      "0.454084 with: {'bootstrap': True, 'criterion': 'entropy', 'max_depth': 1, 'max_features': 3, 'n_estimators': 250, 'warm_start': False}\n",
      "0.478669 with: {'bootstrap': True, 'criterion': 'entropy', 'max_depth': 2, 'max_features': 1, 'n_estimators': 50, 'warm_start': True}\n",
      "0.478669 with: {'bootstrap': True, 'criterion': 'entropy', 'max_depth': 2, 'max_features': 1, 'n_estimators': 50, 'warm_start': False}\n",
      "0.476491 with: {'bootstrap': True, 'criterion': 'entropy', 'max_depth': 2, 'max_features': 1, 'n_estimators': 150, 'warm_start': True}\n",
      "0.476491 with: {'bootstrap': True, 'criterion': 'entropy', 'max_depth': 2, 'max_features': 1, 'n_estimators': 150, 'warm_start': False}\n",
      "0.478671 with: {'bootstrap': True, 'criterion': 'entropy', 'max_depth': 2, 'max_features': 1, 'n_estimators': 250, 'warm_start': True}\n",
      "0.478671 with: {'bootstrap': True, 'criterion': 'entropy', 'max_depth': 2, 'max_features': 1, 'n_estimators': 250, 'warm_start': False}\n",
      "0.481781 with: {'bootstrap': True, 'criterion': 'entropy', 'max_depth': 2, 'max_features': 2, 'n_estimators': 50, 'warm_start': True}\n",
      "0.481781 with: {'bootstrap': True, 'criterion': 'entropy', 'max_depth': 2, 'max_features': 2, 'n_estimators': 50, 'warm_start': False}\n",
      "0.482405 with: {'bootstrap': True, 'criterion': 'entropy', 'max_depth': 2, 'max_features': 2, 'n_estimators': 150, 'warm_start': True}\n",
      "0.482405 with: {'bootstrap': True, 'criterion': 'entropy', 'max_depth': 2, 'max_features': 2, 'n_estimators': 150, 'warm_start': False}\n",
      "0.483649 with: {'bootstrap': True, 'criterion': 'entropy', 'max_depth': 2, 'max_features': 2, 'n_estimators': 250, 'warm_start': True}\n",
      "0.483649 with: {'bootstrap': True, 'criterion': 'entropy', 'max_depth': 2, 'max_features': 2, 'n_estimators': 250, 'warm_start': False}\n",
      "0.478985 with: {'bootstrap': True, 'criterion': 'entropy', 'max_depth': 2, 'max_features': 3, 'n_estimators': 50, 'warm_start': True}\n",
      "0.478985 with: {'bootstrap': True, 'criterion': 'entropy', 'max_depth': 2, 'max_features': 3, 'n_estimators': 50, 'warm_start': False}\n",
      "0.481473 with: {'bootstrap': True, 'criterion': 'entropy', 'max_depth': 2, 'max_features': 3, 'n_estimators': 150, 'warm_start': True}\n",
      "0.481473 with: {'bootstrap': True, 'criterion': 'entropy', 'max_depth': 2, 'max_features': 3, 'n_estimators': 150, 'warm_start': False}\n",
      "0.481162 with: {'bootstrap': True, 'criterion': 'entropy', 'max_depth': 2, 'max_features': 3, 'n_estimators': 250, 'warm_start': True}\n",
      "0.481162 with: {'bootstrap': True, 'criterion': 'entropy', 'max_depth': 2, 'max_features': 3, 'n_estimators': 250, 'warm_start': False}\n",
      "0.484582 with: {'bootstrap': True, 'criterion': 'entropy', 'max_depth': 3, 'max_features': 1, 'n_estimators': 50, 'warm_start': True}\n",
      "0.484582 with: {'bootstrap': True, 'criterion': 'entropy', 'max_depth': 3, 'max_features': 1, 'n_estimators': 50, 'warm_start': False}\n",
      "0.489252 with: {'bootstrap': True, 'criterion': 'entropy', 'max_depth': 3, 'max_features': 1, 'n_estimators': 150, 'warm_start': True}\n",
      "0.489252 with: {'bootstrap': True, 'criterion': 'entropy', 'max_depth': 3, 'max_features': 1, 'n_estimators': 150, 'warm_start': False}\n",
      "0.486762 with: {'bootstrap': True, 'criterion': 'entropy', 'max_depth': 3, 'max_features': 1, 'n_estimators': 250, 'warm_start': True}\n",
      "0.486762 with: {'bootstrap': True, 'criterion': 'entropy', 'max_depth': 3, 'max_features': 1, 'n_estimators': 250, 'warm_start': False}\n",
      "0.490496 with: {'bootstrap': True, 'criterion': 'entropy', 'max_depth': 3, 'max_features': 2, 'n_estimators': 50, 'warm_start': True}\n",
      "0.490496 with: {'bootstrap': True, 'criterion': 'entropy', 'max_depth': 3, 'max_features': 2, 'n_estimators': 50, 'warm_start': False}\n",
      "0.489563 with: {'bootstrap': True, 'criterion': 'entropy', 'max_depth': 3, 'max_features': 2, 'n_estimators': 150, 'warm_start': True}\n",
      "0.489563 with: {'bootstrap': True, 'criterion': 'entropy', 'max_depth': 3, 'max_features': 2, 'n_estimators': 150, 'warm_start': False}\n",
      "0.489563 with: {'bootstrap': True, 'criterion': 'entropy', 'max_depth': 3, 'max_features': 2, 'n_estimators': 250, 'warm_start': True}\n",
      "0.489563 with: {'bootstrap': True, 'criterion': 'entropy', 'max_depth': 3, 'max_features': 2, 'n_estimators': 250, 'warm_start': False}\n",
      "0.487073 with: {'bootstrap': True, 'criterion': 'entropy', 'max_depth': 3, 'max_features': 3, 'n_estimators': 50, 'warm_start': True}\n",
      "0.487073 with: {'bootstrap': True, 'criterion': 'entropy', 'max_depth': 3, 'max_features': 3, 'n_estimators': 50, 'warm_start': False}\n",
      "0.488009 with: {'bootstrap': True, 'criterion': 'entropy', 'max_depth': 3, 'max_features': 3, 'n_estimators': 150, 'warm_start': True}\n",
      "0.488009 with: {'bootstrap': True, 'criterion': 'entropy', 'max_depth': 3, 'max_features': 3, 'n_estimators': 150, 'warm_start': False}\n",
      "0.487697 with: {'bootstrap': True, 'criterion': 'entropy', 'max_depth': 3, 'max_features': 3, 'n_estimators': 250, 'warm_start': True}\n",
      "0.487697 with: {'bootstrap': True, 'criterion': 'entropy', 'max_depth': 3, 'max_features': 3, 'n_estimators': 250, 'warm_start': False}\n",
      "0.487392 with: {'bootstrap': False, 'criterion': 'gini', 'max_depth': None, 'max_features': 1, 'n_estimators': 50, 'warm_start': True}\n",
      "0.487392 with: {'bootstrap': False, 'criterion': 'gini', 'max_depth': None, 'max_features': 1, 'n_estimators': 50, 'warm_start': False}\n",
      "0.502641 with: {'bootstrap': False, 'criterion': 'gini', 'max_depth': None, 'max_features': 1, 'n_estimators': 150, 'warm_start': True}\n",
      "0.502641 with: {'bootstrap': False, 'criterion': 'gini', 'max_depth': None, 'max_features': 1, 'n_estimators': 150, 'warm_start': False}\n",
      "0.502641 with: {'bootstrap': False, 'criterion': 'gini', 'max_depth': None, 'max_features': 1, 'n_estimators': 250, 'warm_start': True}\n",
      "0.502641 with: {'bootstrap': False, 'criterion': 'gini', 'max_depth': None, 'max_features': 1, 'n_estimators': 250, 'warm_start': False}\n",
      "0.486451 with: {'bootstrap': False, 'criterion': 'gini', 'max_depth': None, 'max_features': 2, 'n_estimators': 50, 'warm_start': True}\n",
      "0.486451 with: {'bootstrap': False, 'criterion': 'gini', 'max_depth': None, 'max_features': 2, 'n_estimators': 50, 'warm_start': False}\n",
      "0.483969 with: {'bootstrap': False, 'criterion': 'gini', 'max_depth': None, 'max_features': 2, 'n_estimators': 150, 'warm_start': True}\n",
      "0.483969 with: {'bootstrap': False, 'criterion': 'gini', 'max_depth': None, 'max_features': 2, 'n_estimators': 150, 'warm_start': False}\n",
      "0.488635 with: {'bootstrap': False, 'criterion': 'gini', 'max_depth': None, 'max_features': 2, 'n_estimators': 250, 'warm_start': True}\n",
      "0.488635 with: {'bootstrap': False, 'criterion': 'gini', 'max_depth': None, 'max_features': 2, 'n_estimators': 250, 'warm_start': False}\n",
      "0.483663 with: {'bootstrap': False, 'criterion': 'gini', 'max_depth': None, 'max_features': 3, 'n_estimators': 50, 'warm_start': True}\n",
      "0.483663 with: {'bootstrap': False, 'criterion': 'gini', 'max_depth': None, 'max_features': 3, 'n_estimators': 50, 'warm_start': False}\n",
      "0.486461 with: {'bootstrap': False, 'criterion': 'gini', 'max_depth': None, 'max_features': 3, 'n_estimators': 150, 'warm_start': True}\n",
      "0.486461 with: {'bootstrap': False, 'criterion': 'gini', 'max_depth': None, 'max_features': 3, 'n_estimators': 150, 'warm_start': False}\n",
      "0.488330 with: {'bootstrap': False, 'criterion': 'gini', 'max_depth': None, 'max_features': 3, 'n_estimators': 250, 'warm_start': True}\n",
      "0.488330 with: {'bootstrap': False, 'criterion': 'gini', 'max_depth': None, 'max_features': 3, 'n_estimators': 250, 'warm_start': False}\n",
      "0.477741 with: {'bootstrap': False, 'criterion': 'gini', 'max_depth': 1, 'max_features': 1, 'n_estimators': 50, 'warm_start': True}\n",
      "0.477741 with: {'bootstrap': False, 'criterion': 'gini', 'max_depth': 1, 'max_features': 1, 'n_estimators': 50, 'warm_start': False}\n",
      "0.477741 with: {'bootstrap': False, 'criterion': 'gini', 'max_depth': 1, 'max_features': 1, 'n_estimators': 150, 'warm_start': True}\n",
      "0.477741 with: {'bootstrap': False, 'criterion': 'gini', 'max_depth': 1, 'max_features': 1, 'n_estimators': 150, 'warm_start': False}\n",
      "0.477741 with: {'bootstrap': False, 'criterion': 'gini', 'max_depth': 1, 'max_features': 1, 'n_estimators': 250, 'warm_start': True}\n",
      "0.477741 with: {'bootstrap': False, 'criterion': 'gini', 'max_depth': 1, 'max_features': 1, 'n_estimators': 250, 'warm_start': False}\n",
      "0.449107 with: {'bootstrap': False, 'criterion': 'gini', 'max_depth': 1, 'max_features': 2, 'n_estimators': 50, 'warm_start': True}\n",
      "0.449107 with: {'bootstrap': False, 'criterion': 'gini', 'max_depth': 1, 'max_features': 2, 'n_estimators': 50, 'warm_start': False}\n",
      "0.449107 with: {'bootstrap': False, 'criterion': 'gini', 'max_depth': 1, 'max_features': 2, 'n_estimators': 150, 'warm_start': True}\n",
      "0.449107 with: {'bootstrap': False, 'criterion': 'gini', 'max_depth': 1, 'max_features': 2, 'n_estimators': 150, 'warm_start': False}\n",
      "0.449107 with: {'bootstrap': False, 'criterion': 'gini', 'max_depth': 1, 'max_features': 2, 'n_estimators': 250, 'warm_start': True}\n",
      "0.449107 with: {'bootstrap': False, 'criterion': 'gini', 'max_depth': 1, 'max_features': 2, 'n_estimators': 250, 'warm_start': False}\n",
      "0.449107 with: {'bootstrap': False, 'criterion': 'gini', 'max_depth': 1, 'max_features': 3, 'n_estimators': 50, 'warm_start': True}\n",
      "0.449107 with: {'bootstrap': False, 'criterion': 'gini', 'max_depth': 1, 'max_features': 3, 'n_estimators': 50, 'warm_start': False}\n",
      "0.450351 with: {'bootstrap': False, 'criterion': 'gini', 'max_depth': 1, 'max_features': 3, 'n_estimators': 150, 'warm_start': True}\n",
      "0.450351 with: {'bootstrap': False, 'criterion': 'gini', 'max_depth': 1, 'max_features': 3, 'n_estimators': 150, 'warm_start': False}\n",
      "0.449107 with: {'bootstrap': False, 'criterion': 'gini', 'max_depth': 1, 'max_features': 3, 'n_estimators': 250, 'warm_start': True}\n",
      "0.449107 with: {'bootstrap': False, 'criterion': 'gini', 'max_depth': 1, 'max_features': 3, 'n_estimators': 250, 'warm_start': False}\n",
      "0.477430 with: {'bootstrap': False, 'criterion': 'gini', 'max_depth': 2, 'max_features': 1, 'n_estimators': 50, 'warm_start': True}\n",
      "0.477430 with: {'bootstrap': False, 'criterion': 'gini', 'max_depth': 2, 'max_features': 1, 'n_estimators': 50, 'warm_start': False}\n",
      "0.476807 with: {'bootstrap': False, 'criterion': 'gini', 'max_depth': 2, 'max_features': 1, 'n_estimators': 150, 'warm_start': True}\n",
      "0.476807 with: {'bootstrap': False, 'criterion': 'gini', 'max_depth': 2, 'max_features': 1, 'n_estimators': 150, 'warm_start': False}\n",
      "0.477429 with: {'bootstrap': False, 'criterion': 'gini', 'max_depth': 2, 'max_features': 1, 'n_estimators': 250, 'warm_start': True}\n",
      "0.477429 with: {'bootstrap': False, 'criterion': 'gini', 'max_depth': 2, 'max_features': 1, 'n_estimators': 250, 'warm_start': False}\n",
      "0.478673 with: {'bootstrap': False, 'criterion': 'gini', 'max_depth': 2, 'max_features': 2, 'n_estimators': 50, 'warm_start': True}\n",
      "0.478673 with: {'bootstrap': False, 'criterion': 'gini', 'max_depth': 2, 'max_features': 2, 'n_estimators': 50, 'warm_start': False}\n",
      "0.478362 with: {'bootstrap': False, 'criterion': 'gini', 'max_depth': 2, 'max_features': 2, 'n_estimators': 150, 'warm_start': True}\n",
      "0.478362 with: {'bootstrap': False, 'criterion': 'gini', 'max_depth': 2, 'max_features': 2, 'n_estimators': 150, 'warm_start': False}\n",
      "0.478673 with: {'bootstrap': False, 'criterion': 'gini', 'max_depth': 2, 'max_features': 2, 'n_estimators': 250, 'warm_start': True}\n",
      "0.478673 with: {'bootstrap': False, 'criterion': 'gini', 'max_depth': 2, 'max_features': 2, 'n_estimators': 250, 'warm_start': False}\n",
      "0.476495 with: {'bootstrap': False, 'criterion': 'gini', 'max_depth': 2, 'max_features': 3, 'n_estimators': 50, 'warm_start': True}\n",
      "0.476495 with: {'bootstrap': False, 'criterion': 'gini', 'max_depth': 2, 'max_features': 3, 'n_estimators': 50, 'warm_start': False}\n",
      "0.476495 with: {'bootstrap': False, 'criterion': 'gini', 'max_depth': 2, 'max_features': 3, 'n_estimators': 150, 'warm_start': True}\n",
      "0.476495 with: {'bootstrap': False, 'criterion': 'gini', 'max_depth': 2, 'max_features': 3, 'n_estimators': 150, 'warm_start': False}\n",
      "0.476495 with: {'bootstrap': False, 'criterion': 'gini', 'max_depth': 2, 'max_features': 3, 'n_estimators': 250, 'warm_start': True}\n",
      "0.476495 with: {'bootstrap': False, 'criterion': 'gini', 'max_depth': 2, 'max_features': 3, 'n_estimators': 250, 'warm_start': False}\n",
      "0.481784 with: {'bootstrap': False, 'criterion': 'gini', 'max_depth': 3, 'max_features': 1, 'n_estimators': 50, 'warm_start': True}\n",
      "0.481784 with: {'bootstrap': False, 'criterion': 'gini', 'max_depth': 3, 'max_features': 1, 'n_estimators': 50, 'warm_start': False}\n",
      "0.481471 with: {'bootstrap': False, 'criterion': 'gini', 'max_depth': 3, 'max_features': 1, 'n_estimators': 150, 'warm_start': True}\n",
      "0.481471 with: {'bootstrap': False, 'criterion': 'gini', 'max_depth': 3, 'max_features': 1, 'n_estimators': 150, 'warm_start': False}\n",
      "0.480538 with: {'bootstrap': False, 'criterion': 'gini', 'max_depth': 3, 'max_features': 1, 'n_estimators': 250, 'warm_start': True}\n",
      "0.480538 with: {'bootstrap': False, 'criterion': 'gini', 'max_depth': 3, 'max_features': 1, 'n_estimators': 250, 'warm_start': False}\n",
      "0.476806 with: {'bootstrap': False, 'criterion': 'gini', 'max_depth': 3, 'max_features': 2, 'n_estimators': 50, 'warm_start': True}\n",
      "0.476806 with: {'bootstrap': False, 'criterion': 'gini', 'max_depth': 3, 'max_features': 2, 'n_estimators': 50, 'warm_start': False}\n",
      "0.478983 with: {'bootstrap': False, 'criterion': 'gini', 'max_depth': 3, 'max_features': 2, 'n_estimators': 150, 'warm_start': True}\n",
      "0.478983 with: {'bootstrap': False, 'criterion': 'gini', 'max_depth': 3, 'max_features': 2, 'n_estimators': 150, 'warm_start': False}\n",
      "0.482093 with: {'bootstrap': False, 'criterion': 'gini', 'max_depth': 3, 'max_features': 2, 'n_estimators': 250, 'warm_start': True}\n",
      "0.482093 with: {'bootstrap': False, 'criterion': 'gini', 'max_depth': 3, 'max_features': 2, 'n_estimators': 250, 'warm_start': False}\n",
      "0.474007 with: {'bootstrap': False, 'criterion': 'gini', 'max_depth': 3, 'max_features': 3, 'n_estimators': 50, 'warm_start': True}\n",
      "0.474007 with: {'bootstrap': False, 'criterion': 'gini', 'max_depth': 3, 'max_features': 3, 'n_estimators': 50, 'warm_start': False}\n",
      "0.472763 with: {'bootstrap': False, 'criterion': 'gini', 'max_depth': 3, 'max_features': 3, 'n_estimators': 150, 'warm_start': True}\n",
      "0.472763 with: {'bootstrap': False, 'criterion': 'gini', 'max_depth': 3, 'max_features': 3, 'n_estimators': 150, 'warm_start': False}\n",
      "0.472451 with: {'bootstrap': False, 'criterion': 'gini', 'max_depth': 3, 'max_features': 3, 'n_estimators': 250, 'warm_start': True}\n",
      "0.472451 with: {'bootstrap': False, 'criterion': 'gini', 'max_depth': 3, 'max_features': 3, 'n_estimators': 250, 'warm_start': False}\n",
      "0.501708 with: {'bootstrap': False, 'criterion': 'entropy', 'max_depth': None, 'max_features': 1, 'n_estimators': 50, 'warm_start': True}\n",
      "0.501708 with: {'bootstrap': False, 'criterion': 'entropy', 'max_depth': None, 'max_features': 1, 'n_estimators': 50, 'warm_start': False}\n",
      "0.500777 with: {'bootstrap': False, 'criterion': 'entropy', 'max_depth': None, 'max_features': 1, 'n_estimators': 150, 'warm_start': True}\n",
      "0.500777 with: {'bootstrap': False, 'criterion': 'entropy', 'max_depth': None, 'max_features': 1, 'n_estimators': 150, 'warm_start': False}\n",
      "0.497973 with: {'bootstrap': False, 'criterion': 'entropy', 'max_depth': None, 'max_features': 1, 'n_estimators': 250, 'warm_start': True}\n",
      "0.497973 with: {'bootstrap': False, 'criterion': 'entropy', 'max_depth': None, 'max_features': 1, 'n_estimators': 250, 'warm_start': False}\n",
      "0.480849 with: {'bootstrap': False, 'criterion': 'entropy', 'max_depth': None, 'max_features': 2, 'n_estimators': 50, 'warm_start': True}\n",
      "0.480849 with: {'bootstrap': False, 'criterion': 'entropy', 'max_depth': None, 'max_features': 2, 'n_estimators': 50, 'warm_start': False}\n",
      "0.482097 with: {'bootstrap': False, 'criterion': 'entropy', 'max_depth': None, 'max_features': 2, 'n_estimators': 150, 'warm_start': True}\n",
      "0.482097 with: {'bootstrap': False, 'criterion': 'entropy', 'max_depth': None, 'max_features': 2, 'n_estimators': 150, 'warm_start': False}\n",
      "0.479294 with: {'bootstrap': False, 'criterion': 'entropy', 'max_depth': None, 'max_features': 2, 'n_estimators': 250, 'warm_start': True}\n",
      "0.479294 with: {'bootstrap': False, 'criterion': 'entropy', 'max_depth': None, 'max_features': 2, 'n_estimators': 250, 'warm_start': False}\n",
      "0.479293 with: {'bootstrap': False, 'criterion': 'entropy', 'max_depth': None, 'max_features': 3, 'n_estimators': 50, 'warm_start': True}\n",
      "0.479293 with: {'bootstrap': False, 'criterion': 'entropy', 'max_depth': None, 'max_features': 3, 'n_estimators': 50, 'warm_start': False}\n",
      "0.481165 with: {'bootstrap': False, 'criterion': 'entropy', 'max_depth': None, 'max_features': 3, 'n_estimators': 150, 'warm_start': True}\n",
      "0.481165 with: {'bootstrap': False, 'criterion': 'entropy', 'max_depth': None, 'max_features': 3, 'n_estimators': 150, 'warm_start': False}\n",
      "0.478050 with: {'bootstrap': False, 'criterion': 'entropy', 'max_depth': None, 'max_features': 3, 'n_estimators': 250, 'warm_start': True}\n",
      "0.478050 with: {'bootstrap': False, 'criterion': 'entropy', 'max_depth': None, 'max_features': 3, 'n_estimators': 250, 'warm_start': False}\n",
      "0.467465 with: {'bootstrap': False, 'criterion': 'entropy', 'max_depth': 1, 'max_features': 1, 'n_estimators': 50, 'warm_start': True}\n",
      "0.467465 with: {'bootstrap': False, 'criterion': 'entropy', 'max_depth': 1, 'max_features': 1, 'n_estimators': 50, 'warm_start': False}\n",
      "0.467465 with: {'bootstrap': False, 'criterion': 'entropy', 'max_depth': 1, 'max_features': 1, 'n_estimators': 150, 'warm_start': True}\n",
      "0.467465 with: {'bootstrap': False, 'criterion': 'entropy', 'max_depth': 1, 'max_features': 1, 'n_estimators': 150, 'warm_start': False}\n",
      "0.467465 with: {'bootstrap': False, 'criterion': 'entropy', 'max_depth': 1, 'max_features': 1, 'n_estimators': 250, 'warm_start': True}\n",
      "0.467465 with: {'bootstrap': False, 'criterion': 'entropy', 'max_depth': 1, 'max_features': 1, 'n_estimators': 250, 'warm_start': False}\n",
      "0.443187 with: {'bootstrap': False, 'criterion': 'entropy', 'max_depth': 1, 'max_features': 2, 'n_estimators': 50, 'warm_start': True}\n",
      "0.443187 with: {'bootstrap': False, 'criterion': 'entropy', 'max_depth': 1, 'max_features': 2, 'n_estimators': 50, 'warm_start': False}\n",
      "0.445992 with: {'bootstrap': False, 'criterion': 'entropy', 'max_depth': 1, 'max_features': 2, 'n_estimators': 150, 'warm_start': True}\n",
      "0.445992 with: {'bootstrap': False, 'criterion': 'entropy', 'max_depth': 1, 'max_features': 2, 'n_estimators': 150, 'warm_start': False}\n",
      "0.443187 with: {'bootstrap': False, 'criterion': 'entropy', 'max_depth': 1, 'max_features': 2, 'n_estimators': 250, 'warm_start': True}\n",
      "0.443187 with: {'bootstrap': False, 'criterion': 'entropy', 'max_depth': 1, 'max_features': 2, 'n_estimators': 250, 'warm_start': False}\n",
      "0.448483 with: {'bootstrap': False, 'criterion': 'entropy', 'max_depth': 1, 'max_features': 3, 'n_estimators': 50, 'warm_start': True}\n",
      "0.448483 with: {'bootstrap': False, 'criterion': 'entropy', 'max_depth': 1, 'max_features': 3, 'n_estimators': 50, 'warm_start': False}\n",
      "0.448483 with: {'bootstrap': False, 'criterion': 'entropy', 'max_depth': 1, 'max_features': 3, 'n_estimators': 150, 'warm_start': True}\n",
      "0.448483 with: {'bootstrap': False, 'criterion': 'entropy', 'max_depth': 1, 'max_features': 3, 'n_estimators': 150, 'warm_start': False}\n",
      "0.448483 with: {'bootstrap': False, 'criterion': 'entropy', 'max_depth': 1, 'max_features': 3, 'n_estimators': 250, 'warm_start': True}\n",
      "0.448483 with: {'bootstrap': False, 'criterion': 'entropy', 'max_depth': 1, 'max_features': 3, 'n_estimators': 250, 'warm_start': False}\n",
      "0.478983 with: {'bootstrap': False, 'criterion': 'entropy', 'max_depth': 2, 'max_features': 1, 'n_estimators': 50, 'warm_start': True}\n",
      "0.478983 with: {'bootstrap': False, 'criterion': 'entropy', 'max_depth': 2, 'max_features': 1, 'n_estimators': 50, 'warm_start': False}\n",
      "0.478983 with: {'bootstrap': False, 'criterion': 'entropy', 'max_depth': 2, 'max_features': 1, 'n_estimators': 150, 'warm_start': True}\n",
      "0.478983 with: {'bootstrap': False, 'criterion': 'entropy', 'max_depth': 2, 'max_features': 1, 'n_estimators': 150, 'warm_start': False}\n",
      "0.474622 with: {'bootstrap': False, 'criterion': 'entropy', 'max_depth': 2, 'max_features': 1, 'n_estimators': 250, 'warm_start': True}\n",
      "0.474622 with: {'bootstrap': False, 'criterion': 'entropy', 'max_depth': 2, 'max_features': 1, 'n_estimators': 250, 'warm_start': False}\n",
      "0.477430 with: {'bootstrap': False, 'criterion': 'entropy', 'max_depth': 2, 'max_features': 2, 'n_estimators': 50, 'warm_start': True}\n",
      "0.477430 with: {'bootstrap': False, 'criterion': 'entropy', 'max_depth': 2, 'max_features': 2, 'n_estimators': 50, 'warm_start': False}\n",
      "0.475562 with: {'bootstrap': False, 'criterion': 'entropy', 'max_depth': 2, 'max_features': 2, 'n_estimators': 150, 'warm_start': True}\n",
      "0.475562 with: {'bootstrap': False, 'criterion': 'entropy', 'max_depth': 2, 'max_features': 2, 'n_estimators': 150, 'warm_start': False}\n",
      "0.477430 with: {'bootstrap': False, 'criterion': 'entropy', 'max_depth': 2, 'max_features': 2, 'n_estimators': 250, 'warm_start': True}\n",
      "0.477430 with: {'bootstrap': False, 'criterion': 'entropy', 'max_depth': 2, 'max_features': 2, 'n_estimators': 250, 'warm_start': False}\n",
      "0.475562 with: {'bootstrap': False, 'criterion': 'entropy', 'max_depth': 2, 'max_features': 3, 'n_estimators': 50, 'warm_start': True}\n",
      "0.475562 with: {'bootstrap': False, 'criterion': 'entropy', 'max_depth': 2, 'max_features': 3, 'n_estimators': 50, 'warm_start': False}\n",
      "0.475562 with: {'bootstrap': False, 'criterion': 'entropy', 'max_depth': 2, 'max_features': 3, 'n_estimators': 150, 'warm_start': True}\n",
      "0.475562 with: {'bootstrap': False, 'criterion': 'entropy', 'max_depth': 2, 'max_features': 3, 'n_estimators': 150, 'warm_start': False}\n",
      "0.475562 with: {'bootstrap': False, 'criterion': 'entropy', 'max_depth': 2, 'max_features': 3, 'n_estimators': 250, 'warm_start': True}\n",
      "0.475562 with: {'bootstrap': False, 'criterion': 'entropy', 'max_depth': 2, 'max_features': 3, 'n_estimators': 250, 'warm_start': False}\n",
      "0.478047 with: {'bootstrap': False, 'criterion': 'entropy', 'max_depth': 3, 'max_features': 1, 'n_estimators': 50, 'warm_start': True}\n",
      "0.478047 with: {'bootstrap': False, 'criterion': 'entropy', 'max_depth': 3, 'max_features': 1, 'n_estimators': 50, 'warm_start': False}\n",
      "0.479916 with: {'bootstrap': False, 'criterion': 'entropy', 'max_depth': 3, 'max_features': 1, 'n_estimators': 150, 'warm_start': True}\n",
      "0.479916 with: {'bootstrap': False, 'criterion': 'entropy', 'max_depth': 3, 'max_features': 1, 'n_estimators': 150, 'warm_start': False}\n",
      "0.479293 with: {'bootstrap': False, 'criterion': 'entropy', 'max_depth': 3, 'max_features': 1, 'n_estimators': 250, 'warm_start': True}\n",
      "0.479293 with: {'bootstrap': False, 'criterion': 'entropy', 'max_depth': 3, 'max_features': 1, 'n_estimators': 250, 'warm_start': False}\n",
      "0.474938 with: {'bootstrap': False, 'criterion': 'entropy', 'max_depth': 3, 'max_features': 2, 'n_estimators': 50, 'warm_start': True}\n",
      "0.474938 with: {'bootstrap': False, 'criterion': 'entropy', 'max_depth': 3, 'max_features': 2, 'n_estimators': 50, 'warm_start': False}\n",
      "0.473382 with: {'bootstrap': False, 'criterion': 'entropy', 'max_depth': 3, 'max_features': 2, 'n_estimators': 150, 'warm_start': True}\n",
      "0.473382 with: {'bootstrap': False, 'criterion': 'entropy', 'max_depth': 3, 'max_features': 2, 'n_estimators': 150, 'warm_start': False}\n",
      "0.474004 with: {'bootstrap': False, 'criterion': 'entropy', 'max_depth': 3, 'max_features': 2, 'n_estimators': 250, 'warm_start': True}\n",
      "0.474004 with: {'bootstrap': False, 'criterion': 'entropy', 'max_depth': 3, 'max_features': 2, 'n_estimators': 250, 'warm_start': False}\n",
      "0.477735 with: {'bootstrap': False, 'criterion': 'entropy', 'max_depth': 3, 'max_features': 3, 'n_estimators': 50, 'warm_start': True}\n",
      "0.477735 with: {'bootstrap': False, 'criterion': 'entropy', 'max_depth': 3, 'max_features': 3, 'n_estimators': 50, 'warm_start': False}\n",
      "0.477735 with: {'bootstrap': False, 'criterion': 'entropy', 'max_depth': 3, 'max_features': 3, 'n_estimators': 150, 'warm_start': True}\n",
      "0.477735 with: {'bootstrap': False, 'criterion': 'entropy', 'max_depth': 3, 'max_features': 3, 'n_estimators': 150, 'warm_start': False}\n",
      "0.477113 with: {'bootstrap': False, 'criterion': 'entropy', 'max_depth': 3, 'max_features': 3, 'n_estimators': 250, 'warm_start': True}\n",
      "0.477113 with: {'bootstrap': False, 'criterion': 'entropy', 'max_depth': 3, 'max_features': 3, 'n_estimators': 250, 'warm_start': False}\n"
     ]
    }
   ],
   "source": [
    "param = [\n",
    "    {'n_estimators': [50,150,250],\n",
    "     'criterion': ['gini','entropy'],\n",
    "     'max_depth':[None,1, 2, 3],\n",
    "     'bootstrap': [True, False],\n",
    "     'max_features': [1,2,3],\n",
    "     'warm_start': [True, False]\n",
    "    }\n",
    "]\n",
    "\n",
    "gridRF = GridSearchCV(RandomForestClassifier(random_state = 42), param_grid = param, scoring = 'accuracy')\n",
    "grid_result = gridRF.fit(X_train,y_train)\n",
    "\n",
    "print(\"Best: %f using %s\" % (grid_result.best_score_, grid_result.best_params_))\n",
    "means = grid_result.cv_results_['mean_test_score']\n",
    "params = grid_result.cv_results_['params']\n",
    "for mean, param in zip(means, params):\n",
    "    print(\"%f with: %r\" % (mean, param))"
   ]
  },
  {
   "cell_type": "code",
   "execution_count": 41,
   "id": "7f299c50",
   "metadata": {},
   "outputs": [
    {
     "name": "stderr",
     "output_type": "stream",
     "text": [
      "C:\\Users\\pnanp\\anaconda3\\lib\\site-packages\\sklearn\\ensemble\\_forest.py:429: UserWarning: Warm-start fitting without increasing n_estimators does not fit new trees.\n",
      "  warn(\n"
     ]
    },
    {
     "name": "stdout",
     "output_type": "stream",
     "text": [
      "Classification report\n",
      "-------------------------------\n",
      "              precision    recall  f1-score   support\n",
      "\n",
      "           0       0.53      0.45      0.49       439\n",
      "           5       0.49      0.50      0.49       576\n",
      "          10       0.53      0.58      0.55       569\n",
      "\n",
      "    accuracy                           0.51      1584\n",
      "   macro avg       0.51      0.51      0.51      1584\n",
      "weighted avg       0.51      0.51      0.51      1584\n",
      "\n",
      "_______________________________\n",
      "Accuracy: 51.39%\n"
     ]
    }
   ],
   "source": [
    "# Training\n",
    "blinkRF = gridRF.best_estimator_\n",
    "blinkRF.fit(X_train, y_train)\n",
    "y_pred = blinkRF.predict(X_test)\n",
    "RFA = round(accuracy_score(y_test, y_pred)*100,2)\n",
    "\n",
    "# Printing evaluation statistics\n",
    "print('Classification report')\n",
    "print('-------------------------------')\n",
    "print(classification_report(y_test, y_pred))\n",
    "print('_______________________________')\n",
    "print('Accuracy: {}%'.format(round(accuracy_score(y_test, y_pred)*100,2)))"
   ]
  },
  {
   "cell_type": "code",
   "execution_count": 42,
   "id": "1b2bd34c",
   "metadata": {},
   "outputs": [
    {
     "data": {
      "image/png": "[encoded data removed]",
      "text/plain": [
       "<Figure size 360x360 with 1 Axes>"
      ]
     },
     "metadata": {
      "needs_background": "light"
     },
     "output_type": "display_data"
    }
   ],
   "source": [
    "#Generate the confusion matrix\n",
    "cf_matrix = confusion_matrix(y_test, y_pred)\n",
    "plt.rcParams['figure.figsize'] = (5,5)\n",
    "ax = sns.heatmap(cf_matrix, annot=True, cmap='Blues', cbar= False, square = True, \n",
    "                      fmt = 'g', annot_kws = {'size': 13})\n",
    "\n",
    "ax.set_title('Confusion Matrix - RF')\n",
    "ax.set_xlabel('Predicted State', size = 13)\n",
    "ax.set_ylabel('Actual State', size = 13)\n",
    "\n",
    "## Ticket labels - List must be in alphabetical order\n",
    "ax.xaxis.set_ticklabels(['0','5', '10'])\n",
    "ax.yaxis.set_ticklabels(['0','5', '10'])\n",
    "\n",
    "## Display the visualization of the Confusion Matrix.\n",
    "plt.show()"
   ]
  },
  {
   "cell_type": "markdown",
   "id": "53346068-27e4-44b7-b7b7-48e2ea597a31",
   "metadata": {},
   "source": [
    "#### Gradient Boosting"
   ]
  },
  {
   "cell_type": "code",
   "execution_count": 43,
   "id": "8859f86e-9a59-4029-bdda-abebceae45c1",
   "metadata": {},
   "outputs": [
    {
     "name": "stdout",
     "output_type": "stream",
     "text": [
      "Classification rep ort\n",
      "-------------------------------\n",
      "              precision    recall  f1-score   support\n",
      "\n",
      "           0       0.56      0.40      0.47       439\n",
      "           5       0.47      0.54      0.50       576\n",
      "          10       0.55      0.59      0.57       569\n",
      "\n",
      "    accuracy                           0.52      1584\n",
      "   macro avg       0.53      0.51      0.51      1584\n",
      "weighted avg       0.53      0.52      0.52      1584\n",
      "\n",
      "_______________________________\n",
      "Accuracy: 51.96%\n"
     ]
    }
   ],
   "source": [
    "# Training\n",
    "blinkGB = GradientBoostingClassifier(random_state = 42)\n",
    "blinkGB.fit(X_train, y_train)\n",
    "y_pred = blinkGB.predict(X_test)\n",
    "GBA = round(accuracy_score(y_test, y_pred)*100,2)\n",
    "\n",
    "# Printing evaluation statistics\n",
    "print('Classification rep ort')\n",
    "print('-------------------------------')\n",
    "print(classification_report(y_test, y_pred))\n",
    "print('_______________________________')\n",
    "print('Accuracy: {}%'.format(round(accuracy_score(y_test, y_pred)*100,2)))"
   ]
  },
  {
   "cell_type": "code",
   "execution_count": 44,
   "id": "d3432129-e69c-4417-b2de-e16db40518f1",
   "metadata": {},
   "outputs": [
    {
     "data": {
      "image/png": "[encoded data removed]",
      "text/plain": [
       "<Figure size 360x360 with 1 Axes>"
      ]
     },
     "metadata": {
      "needs_background": "light"
     },
     "output_type": "display_data"
    }
   ],
   "source": [
    "#Generate the confusion matrix\n",
    "cf_matrix = confusion_matrix(y_test, y_pred)\n",
    "plt.rcParams['figure.figsize'] = (5,5)\n",
    "ax = sns.heatmap(cf_matrix, annot=True, cmap='Blues', cbar= False, square = True, \n",
    "                      fmt = 'g', annot_kws = {'size': 13})\n",
    "\n",
    "ax.set_title('Confusion Matrix - GB')\n",
    "ax.set_xlabel('Predicted State', size = 13)\n",
    "ax.set_ylabel('Actual State', size = 13)\n",
    "\n",
    "## Ticket labels - List must be in alphabetical order\n",
    "ax.xaxis.set_ticklabels(['0','5', '10'])\n",
    "ax.yaxis.set_ticklabels(['0','5', '10'])\n",
    "\n",
    "## Display the visualization of the Confusion Matrix.\n",
    "plt.show()"
   ]
  },
  {
   "cell_type": "code",
   "execution_count": 45,
   "id": "1ab039d7",
   "metadata": {
    "scrolled": true
   },
   "outputs": [
    {
     "name": "stdout",
     "output_type": "stream",
     "text": [
      "Best: 0.523489 using {'criterion': 'friedman_mse', 'max_depth': 3, 'max_features': 1, 'warm_start': True}\n",
      "0.497970 with: {'criterion': 'friedman_mse', 'max_depth': None, 'max_features': 1, 'warm_start': True}\n",
      "0.497970 with: {'criterion': 'friedman_mse', 'max_depth': None, 'max_features': 1, 'warm_start': False}\n",
      "0.494862 with: {'criterion': 'friedman_mse', 'max_depth': None, 'max_features': 2, 'warm_start': True}\n",
      "0.494862 with: {'criterion': 'friedman_mse', 'max_depth': None, 'max_features': 2, 'warm_start': False}\n",
      "0.484901 with: {'criterion': 'friedman_mse', 'max_depth': None, 'max_features': 3, 'warm_start': True}\n",
      "0.484901 with: {'criterion': 'friedman_mse', 'max_depth': None, 'max_features': 3, 'warm_start': False}\n",
      "0.498592 with: {'criterion': 'friedman_mse', 'max_depth': 1, 'max_features': 1, 'warm_start': True}\n",
      "0.498592 with: {'criterion': 'friedman_mse', 'max_depth': 1, 'max_features': 1, 'warm_start': False}\n",
      "0.503257 with: {'criterion': 'friedman_mse', 'max_depth': 1, 'max_features': 2, 'warm_start': True}\n",
      "0.503257 with: {'criterion': 'friedman_mse', 'max_depth': 1, 'max_features': 2, 'warm_start': False}\n",
      "0.504192 with: {'criterion': 'friedman_mse', 'max_depth': 1, 'max_features': 3, 'warm_start': True}\n",
      "0.504192 with: {'criterion': 'friedman_mse', 'max_depth': 1, 'max_features': 3, 'warm_start': False}\n",
      "0.514454 with: {'criterion': 'friedman_mse', 'max_depth': 2, 'max_features': 1, 'warm_start': True}\n",
      "0.514454 with: {'criterion': 'friedman_mse', 'max_depth': 2, 'max_features': 1, 'warm_start': False}\n",
      "0.511658 with: {'criterion': 'friedman_mse', 'max_depth': 2, 'max_features': 2, 'warm_start': True}\n",
      "0.511658 with: {'criterion': 'friedman_mse', 'max_depth': 2, 'max_features': 2, 'warm_start': False}\n",
      "0.507922 with: {'criterion': 'friedman_mse', 'max_depth': 2, 'max_features': 3, 'warm_start': True}\n",
      "0.507922 with: {'criterion': 'friedman_mse', 'max_depth': 2, 'max_features': 3, 'warm_start': False}\n",
      "0.523489 with: {'criterion': 'friedman_mse', 'max_depth': 3, 'max_features': 1, 'warm_start': True}\n",
      "0.523489 with: {'criterion': 'friedman_mse', 'max_depth': 3, 'max_features': 1, 'warm_start': False}\n",
      "0.513531 with: {'criterion': 'friedman_mse', 'max_depth': 3, 'max_features': 2, 'warm_start': True}\n",
      "0.513531 with: {'criterion': 'friedman_mse', 'max_depth': 3, 'max_features': 2, 'warm_start': False}\n",
      "0.515397 with: {'criterion': 'friedman_mse', 'max_depth': 3, 'max_features': 3, 'warm_start': True}\n",
      "0.515397 with: {'criterion': 'friedman_mse', 'max_depth': 3, 'max_features': 3, 'warm_start': False}\n",
      "0.502950 with: {'criterion': 'squared_error', 'max_depth': None, 'max_features': 1, 'warm_start': True}\n",
      "0.502950 with: {'criterion': 'squared_error', 'max_depth': None, 'max_features': 1, 'warm_start': False}\n",
      "0.493617 with: {'criterion': 'squared_error', 'max_depth': None, 'max_features': 2, 'warm_start': True}\n",
      "0.493617 with: {'criterion': 'squared_error', 'max_depth': None, 'max_features': 2, 'warm_start': False}\n",
      "0.487394 with: {'criterion': 'squared_error', 'max_depth': None, 'max_features': 3, 'warm_start': True}\n",
      "0.487394 with: {'criterion': 'squared_error', 'max_depth': None, 'max_features': 3, 'warm_start': False}\n",
      "0.498592 with: {'criterion': 'squared_error', 'max_depth': 1, 'max_features': 1, 'warm_start': True}\n",
      "0.498592 with: {'criterion': 'squared_error', 'max_depth': 1, 'max_features': 1, 'warm_start': False}\n",
      "0.503257 with: {'criterion': 'squared_error', 'max_depth': 1, 'max_features': 2, 'warm_start': True}\n",
      "0.503257 with: {'criterion': 'squared_error', 'max_depth': 1, 'max_features': 2, 'warm_start': False}\n",
      "0.504192 with: {'criterion': 'squared_error', 'max_depth': 1, 'max_features': 3, 'warm_start': True}\n",
      "0.504192 with: {'criterion': 'squared_error', 'max_depth': 1, 'max_features': 3, 'warm_start': False}\n",
      "0.514454 with: {'criterion': 'squared_error', 'max_depth': 2, 'max_features': 1, 'warm_start': True}\n",
      "0.514454 with: {'criterion': 'squared_error', 'max_depth': 2, 'max_features': 1, 'warm_start': False}\n",
      "0.511658 with: {'criterion': 'squared_error', 'max_depth': 2, 'max_features': 2, 'warm_start': True}\n",
      "0.511658 with: {'criterion': 'squared_error', 'max_depth': 2, 'max_features': 2, 'warm_start': False}\n",
      "0.507922 with: {'criterion': 'squared_error', 'max_depth': 2, 'max_features': 3, 'warm_start': True}\n",
      "0.507922 with: {'criterion': 'squared_error', 'max_depth': 2, 'max_features': 3, 'warm_start': False}\n",
      "0.523489 with: {'criterion': 'squared_error', 'max_depth': 3, 'max_features': 1, 'warm_start': True}\n",
      "0.523489 with: {'criterion': 'squared_error', 'max_depth': 3, 'max_features': 1, 'warm_start': False}\n",
      "0.514774 with: {'criterion': 'squared_error', 'max_depth': 3, 'max_features': 2, 'warm_start': True}\n",
      "0.514774 with: {'criterion': 'squared_error', 'max_depth': 3, 'max_features': 2, 'warm_start': False}\n",
      "0.515397 with: {'criterion': 'squared_error', 'max_depth': 3, 'max_features': 3, 'warm_start': True}\n",
      "0.515397 with: {'criterion': 'squared_error', 'max_depth': 3, 'max_features': 3, 'warm_start': False}\n"
     ]
    }
   ],
   "source": [
    "param = [\n",
    "    {\n",
    "     'criterion': ['friedman_mse','squared_error'],\n",
    "     'max_depth':[None,1, 2, 3],\n",
    "     'max_features': [1,2,3],\n",
    "     'warm_start': [True, False]\n",
    "    }\n",
    "]\n",
    "\n",
    "gridGB = GridSearchCV(GradientBoostingClassifier(random_state = 42), param_grid = param, scoring = 'accuracy')\n",
    "grid_result = gridGB.fit(X_train,y_train)\n",
    "\n",
    "print(\"Best: %f using %s\" % (grid_result.best_score_, grid_result.best_params_))\n",
    "means = grid_result.cv_results_['mean_test_score']\n",
    "params = grid_result.cv_results_['params']\n",
    "for mean, param in zip(means, params):\n",
    "    print(\"%f with: %r\" % (mean, param))"
   ]
  },
  {
   "cell_type": "code",
   "execution_count": 46,
   "id": "e7d259fe",
   "metadata": {},
   "outputs": [
    {
     "name": "stdout",
     "output_type": "stream",
     "text": [
      "Classification report\n",
      "-------------------------------\n",
      "              precision    recall  f1-score   support\n",
      "\n",
      "           0       0.57      0.41      0.47       439\n",
      "           5       0.48      0.53      0.51       576\n",
      "          10       0.55      0.62      0.58       569\n",
      "\n",
      "    accuracy                           0.53      1584\n",
      "   macro avg       0.54      0.52      0.52      1584\n",
      "weighted avg       0.53      0.53      0.53      1584\n",
      "\n",
      "_______________________________\n",
      "Accuracy: 52.9%\n"
     ]
    }
   ],
   "source": [
    "# Training\n",
    "blinkGB = gridGB.best_estimator_\n",
    "blinkGB.fit(X_train, y_train)\n",
    "y_pred = blinkGB.predict(X_test)\n",
    "GBA = round(accuracy_score(y_test, y_pred)*100,2)\n",
    "\n",
    "# Printing evaluation statistics\n",
    "print('Classification report')\n",
    "print('-------------------------------')\n",
    "print(classification_report(y_test, y_pred))\n",
    "print('_______________________________')\n",
    "print('Accuracy: {}%'.format(round(accuracy_score(y_test, y_pred)*100,2)))"
   ]
  },
  {
   "cell_type": "code",
   "execution_count": 47,
   "id": "6048696a",
   "metadata": {},
   "outputs": [
    {
     "data": {
      "image/png": "[encoded data removed]",
      "text/plain": [
       "<Figure size 360x360 with 1 Axes>"
      ]
     },
     "metadata": {
      "needs_background": "light"
     },
     "output_type": "display_data"
    }
   ],
   "source": [
    "#Generate the confusion matrix\n",
    "cf_matrix = confusion_matrix(y_test, y_pred)\n",
    "plt.rcParams['figure.figsize'] = (5,5)\n",
    "ax = sns.heatmap(cf_matrix, annot=True, cmap='Blues', cbar= False, square = True, \n",
    "                      fmt = 'g', annot_kws = {'size': 13})\n",
    "\n",
    "ax.set_title('Confusion Matrix - GB')\n",
    "ax.set_xlabel('Predicted State', size = 13)\n",
    "ax.set_ylabel('Actual State', size = 13)\n",
    "\n",
    "## Ticket labels - List must be in alphabetical order\n",
    "ax.xaxis.set_ticklabels(['0','5', '10'])\n",
    "ax.yaxis.set_ticklabels(['0','5', '10'])\n",
    "\n",
    "## Display the visualization of the Confusion Matrix.\n",
    "plt.show()"
   ]
  },
  {
   "cell_type": "markdown",
   "id": "c3ca77e5",
   "metadata": {},
   "source": [
    "#### Neural Network"
   ]
  },
  {
   "cell_type": "code",
   "execution_count": 48,
   "id": "69ffa9a5",
   "metadata": {},
   "outputs": [
    {
     "name": "stdout",
     "output_type": "stream",
     "text": [
      "Classification report\n",
      "-------------------------------\n",
      "              precision    recall  f1-score   support\n",
      "\n",
      "           0       0.59      0.45      0.51       439\n",
      "           5       0.57      0.47      0.51       576\n",
      "          10       0.51      0.70      0.59       569\n",
      "\n",
      "    accuracy                           0.55      1584\n",
      "   macro avg       0.56      0.54      0.54      1584\n",
      "weighted avg       0.55      0.55      0.54      1584\n",
      "\n",
      "_______________________________\n",
      "Accuracy: 54.55%\n"
     ]
    }
   ],
   "source": [
    "# Splitting data into features and target\n",
    "y = df.State\n",
    "X = df[['Amplitude','Frequency','Duration', 'Velocity']]\n",
    "\n",
    "# Encode class values as integers\n",
    "encoder = LabelEncoder()\n",
    "encoder.fit(y)\n",
    "encoded_Y = encoder.transform(y)\n",
    "# Convert integers to dummy variables \n",
    "dummy_y = utils.to_categorical(encoded_Y)\n",
    "# Split into train and test sets\n",
    "X_train, X_test, y_train, y_test = train_test_split(X, dummy_y, test_size = 0.33,random_state = 42)\n",
    "y_test_temp = encoder.inverse_transform(np.argmax(y_test, axis = -1))\n",
    "\n",
    "# Defining the model\n",
    "blinkNN = Sequential()\n",
    "blinkNN.add(Dense(2187, input_dim=4, activation='relu'))\n",
    "blinkNN.add(Dense(729, activation='relu'))\n",
    "blinkNN.add(Dense(243, activation='relu'))\n",
    "blinkNN.add(Dense(81, activation='relu'))\n",
    "blinkNN.add(Dense(27, activation='relu'))\n",
    "blinkNN.add(Dense(9, activation='relu'))\n",
    "blinkNN.add(Dense(3, activation='softmax'))\n",
    "\n",
    "# Compiling the model \n",
    "blinkNN.compile(loss = 'categorical_crossentropy', optimizer = 'adam', metrics = ['accuracy'])\n",
    "\n",
    "blinkNN.fit(X_train, y_train, epochs=300, batch_size=400, verbose = 0)\n",
    "\n",
    "y_pred = blinkNN.predict(X_test)\n",
    "y_pred = encoder.inverse_transform(np.argmax(y_pred, axis = -1))\n",
    "NNA = round(accuracy_score(y_test_temp, y_pred)*100,2)\n",
    "# Printing evaluation statistics\n",
    "print('Classification report')\n",
    "print('-------------------------------')\n",
    "print(classification_report(y_test_temp, y_pred))\n",
    "print('_______________________________')\n",
    "print('Accuracy: {}%'.format(round(accuracy_score(y_test_temp, y_pred)*100,2)))"
   ]
  },
  {
   "cell_type": "code",
   "execution_count": 49,
   "id": "0c4658ca",
   "metadata": {},
   "outputs": [
    {
     "data": {
      "image/png": "[encoded data removed]",
      "text/plain": [
       "<Figure size 360x360 with 1 Axes>"
      ]
     },
     "metadata": {
      "needs_background": "light"
     },
     "output_type": "display_data"
    }
   ],
   "source": [
    "#Generate the confusion matrix\n",
    "cf_matrix = confusion_matrix(y_test_temp, y_pred)\n",
    "plt.rcParams['figure.figsize'] = (5,5)\n",
    "ax = sns.heatmap(cf_matrix, annot=True, cmap='Blues', cbar= False, square = True, \n",
    "                      fmt = 'g', annot_kws = {'size': 13})\n",
    "\n",
    "ax.set_title('Confusion Matrix - NN')\n",
    "ax.set_xlabel('Predicted State', size = 13)\n",
    "ax.set_ylabel('Actual State', size = 13)\n",
    "\n",
    "## Ticket labels - List must be in alphabetical order\n",
    "ax.xaxis.set_ticklabels(['0','5', '10'])\n",
    "ax.yaxis.set_ticklabels(['0','5', '10'])\n",
    "\n",
    "## Display the visualization of the Confusion Matrix.\n",
    "plt.show()"
   ]
  },
  {
   "cell_type": "code",
   "execution_count": null,
   "id": "3b4e3041",
   "metadata": {},
   "outputs": [],
   "source": []
  }
 ],
 "metadata": {
  "kernelspec": {
   "display_name": "Python 3 (ipykernel)",
   "language": "python",
   "name": "python3"
  },
  "language_info": {
   "codemirror_mode": {
    "name": "ipython",
    "version": 3
   },
   "file_extension": ".py",
   "mimetype": "text/x-python",
   "name": "python",
   "nbconvert_exporter": "python",
   "pygments_lexer": "ipython3",
   "version": "3.8.5"
  }
 },
 "nbformat": 4,
 "nbformat_minor": 5
}
